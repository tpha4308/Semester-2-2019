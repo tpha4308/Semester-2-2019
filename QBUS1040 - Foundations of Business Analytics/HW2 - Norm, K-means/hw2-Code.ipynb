{
 "cells": [
  {
   "cell_type": "markdown",
   "metadata": {
    "deletable": false,
    "editable": false,
    "nbgrader": {
     "checksum": "ce8251a751682fa3892ea44d7c242799",
     "grade": false,
     "grade_id": "cell-c89a3eeb4795df3f",
     "locked": true,
     "schema_version": 1,
     "solution": false
    }
   },
   "source": [
    "# QBUS1040: Foundations of Business Analytics\n",
    "## Homework 2\n",
    "Semester 2, 2019\n",
    "\n",
    "Please answer all questions in the space provided in this homework file. When you are done, save the file and upload it to Canvas. You should submit one file for the whole homework.  \n",
    "\n",
    "__Good luck!__"
   ]
  },
  {
   "cell_type": "markdown",
   "metadata": {
    "deletable": false,
    "editable": false,
    "nbgrader": {
     "checksum": "58ed7440ad71c7f28ae5f3a7ec81ec0a",
     "grade": false,
     "grade_id": "cell-658ee1ba176d6a27",
     "locked": true,
     "schema_version": 1,
     "solution": false
    }
   },
   "source": [
    "# Problem 6\n",
    "_Creating vectors in Python_\n",
    "\n",
    "In each of the parts below, create vector $a$ such that $a^T x$ provides the correct result according to the description, for the given vector $x$ in each part. Assign your vector $a$ as a numpy array to the variable provided in the answer cell of each part."
   ]
  },
  {
   "cell_type": "markdown",
   "metadata": {
    "deletable": false,
    "editable": false,
    "nbgrader": {
     "checksum": "a35839b2cf25b8cbc0ccfe4ad7f17c69",
     "grade": false,
     "grade_id": "cell-3ed1a1773c95d8b4",
     "locked": true,
     "schema_version": 1,
     "solution": false
    }
   },
   "source": [
    "(a) $a^T x$ extracts (is equal to) the 7th entry of the $10$-vector $x$"
   ]
  },
  {
   "cell_type": "code",
   "execution_count": 2,
   "metadata": {
    "deletable": false,
    "nbgrader": {
     "checksum": "11f5df6a458165fc412cf69d4fb42883",
     "grade": false,
     "grade_id": "cell-5b097410f9406910",
     "locked": false,
     "schema_version": 1,
     "solution": true
    }
   },
   "outputs": [],
   "source": [
    "import numpy as np\n",
    "# Answer (Q6a)\n",
    "\n",
    "# YOUR CODE HERE\n",
    "\n",
    "ans_6a = np.array([0,0,0,0,0,0,1,0,0,0])"
   ]
  },
  {
   "cell_type": "code",
   "execution_count": null,
   "metadata": {
    "deletable": false,
    "editable": false,
    "nbgrader": {
     "checksum": "5dc1bf12f8694ad5cf2c4195a5f34b62",
     "grade": true,
     "grade_id": "cell-71461519b3d9cb64",
     "locked": true,
     "points": 2,
     "schema_version": 1,
     "solution": false
    }
   },
   "outputs": [],
   "source": [
    "# Assertion cell (Q6a) - please do not delete or move this cell\n",
    "from nose.tools import assert_equal\n",
    "import numpy as np\n",
    "rand_vec_x = np.random.rand(10) #I create a random vector x\n",
    "assert_equal(np.matmul(ans_6a,rand_vec_x),rand_vec_x[6]) # check if the inner product equals the seventh element"
   ]
  },
  {
   "cell_type": "markdown",
   "metadata": {
    "deletable": false,
    "editable": false,
    "nbgrader": {
     "checksum": "a7a6e41becaabf28e9ecc1b83c1a6ed9",
     "grade": false,
     "grade_id": "cell-290480b5d6f09ff0",
     "locked": true,
     "schema_version": 1,
     "solution": false
    }
   },
   "source": [
    "(b) $a^T x$ is the weighted average of a $3$-vector $x$, assigning weights $0.3$ to the first component, $0.4$ to the second, and $0.3$ to the third."
   ]
  },
  {
   "cell_type": "code",
   "execution_count": null,
   "metadata": {
    "deletable": false,
    "nbgrader": {
     "checksum": "9263e65f1deae43713c3506d62e55b34",
     "grade": false,
     "grade_id": "cell-867f8b2bb748c38c",
     "locked": false,
     "schema_version": 1,
     "solution": true
    }
   },
   "outputs": [],
   "source": [
    "# Answer (Q6b)\n",
    "ans_6b = np.array([0.3, 0.4, 0.3])\n",
    "# YOUR CODE HERE\n"
   ]
  },
  {
   "cell_type": "code",
   "execution_count": null,
   "metadata": {
    "deletable": false,
    "editable": false,
    "nbgrader": {
     "checksum": "b2fe04c86d9d2db3492f8d99a2537e2a",
     "grade": true,
     "grade_id": "cell-c49ef136e9a76e02",
     "locked": true,
     "points": 2,
     "schema_version": 1,
     "solution": false
    }
   },
   "outputs": [],
   "source": [
    "# Assertion cell (Q6b) - please do not delete or move this cell"
   ]
  },
  {
   "cell_type": "markdown",
   "metadata": {
    "deletable": false,
    "editable": false,
    "nbgrader": {
     "checksum": "0f6a51826288fd3aa6d4a4f66bcda912",
     "grade": false,
     "grade_id": "cell-bf7eab09e7a677ad",
     "locked": true,
     "schema_version": 1,
     "solution": false
    }
   },
   "source": [
    "(c) $a^T x$ (with $x$ a $22$-vector) is the sum of $x_i$ for $i$ a multiple of $4$, minus the sum of $x_i$ for $i$ a multiple of $7$.\n"
   ]
  },
  {
   "cell_type": "code",
   "execution_count": null,
   "metadata": {
    "deletable": false,
    "nbgrader": {
     "checksum": "bb19d123e0a2cc607e3825b526a71d44",
     "grade": false,
     "grade_id": "cell-d293d0ff64f778b7",
     "locked": false,
     "schema_version": 1,
     "solution": true
    }
   },
   "outputs": [],
   "source": [
    "# Answer (Q6c)\n",
    "ans_6c = np.array([0, 0, 0, 1, 0, 0, -1, 1, 0, 0, 0, 1, 0, -1, 0, 1, 0, 0, 0, 1, -1, 0])\n",
    "# YOUR CODE HERE\n"
   ]
  },
  {
   "cell_type": "code",
   "execution_count": null,
   "metadata": {
    "deletable": false,
    "editable": false,
    "nbgrader": {
     "checksum": "94fcf4c8679eb972ca9e77a5c67b0d91",
     "grade": true,
     "grade_id": "cell-10715472e9c3fe96",
     "locked": true,
     "points": 2,
     "schema_version": 1,
     "solution": false
    }
   },
   "outputs": [],
   "source": [
    "# Assertion cell (Q6c) - please do not delete or move this cell"
   ]
  },
  {
   "cell_type": "markdown",
   "metadata": {},
   "source": [
    "(d) $a^T x$ (with $x$ an $11$-vector) is the average of the middle three entries of $x$, i.e., entries $5$ to $7$."
   ]
  },
  {
   "cell_type": "code",
   "execution_count": null,
   "metadata": {
    "deletable": false,
    "nbgrader": {
     "checksum": "4fba34ba3af0ab58faac4a7e5efaa4f4",
     "grade": false,
     "grade_id": "cell-7733ee1dc195bb4f",
     "locked": false,
     "schema_version": 1,
     "solution": true
    }
   },
   "outputs": [],
   "source": [
    "# Answer (Q6d)\n",
    "ans_6d = np.array([0, 0, 0, 0, 1/3, 1/3, 1/3, 0, 0, 0, 0])\n",
    "# YOUR CODE HERE\n"
   ]
  },
  {
   "cell_type": "code",
   "execution_count": null,
   "metadata": {
    "deletable": false,
    "editable": false,
    "nbgrader": {
     "checksum": "28c490801d8a5a5e2d0beb996f14c341",
     "grade": true,
     "grade_id": "cell-bfe6d782d0792d6d",
     "locked": true,
     "points": 2,
     "schema_version": 1,
     "solution": false
    }
   },
   "outputs": [],
   "source": [
    "# Assertion cell (Q6d) - please do not delete or move this cell"
   ]
  },
  {
   "cell_type": "markdown",
   "metadata": {
    "deletable": false,
    "editable": false,
    "nbgrader": {
     "checksum": "f3c84074b9377fa67598a92ec303a5ce",
     "grade": false,
     "grade_id": "cell-3723245f8def0ea0",
     "locked": true,
     "schema_version": 1,
     "solution": false
    }
   },
   "source": [
    "# Problem 7\n",
    "_Linear or not?_\n",
    "\n",
    "Determine whether each of the following scalar-valued functions of $n$-vectors is linear. \n",
    "\n",
    "Assign __Boolean value__ `True` or `False` to the variable provided in the answer cell. Answer  `True` if the statement is linear and `False` otherwise."
   ]
  },
  {
   "cell_type": "markdown",
   "metadata": {
    "deletable": false,
    "editable": false,
    "nbgrader": {
     "checksum": "d4e602bd96c45902243313991c8d5a24",
     "grade": false,
     "grade_id": "cell-e80fbbb2e080f946",
     "locked": true,
     "schema_version": 1,
     "solution": false
    }
   },
   "source": [
    "(a) The spread of values of the vector, defined as $f(x) = max_k x_k − min_k x_k$.\n"
   ]
  },
  {
   "cell_type": "code",
   "execution_count": null,
   "metadata": {
    "deletable": false,
    "nbgrader": {
     "checksum": "5104f8007103aaf9e94f89e7ee432c4c",
     "grade": false,
     "grade_id": "cell-8307552fb6b867fe",
     "locked": false,
     "schema_version": 1,
     "solution": true
    }
   },
   "outputs": [],
   "source": [
    "# Answer (Q7a)\n",
    "ans_7a = False\n",
    "# YOUR CODE HERE\n",
    "\n",
    "import random\n",
    "from random import randint\n",
    "\n",
    "#creating 2 random 4-vectors \n",
    "ls = []\n",
    "i = 0 \n",
    "random.seed(randint(0,99))\n",
    "while i <= 1:\n",
    "    vect = [randint(0,99), randint(0,99), randint(0,99), randint(0,99)]\n",
    "    ls.append(vect)\n",
    "    i += 1\n",
    "print(ls)\n",
    "\n",
    "x = ls[0]\n",
    "y = ls[1]\n",
    "\n",
    "a = randint(0,99)\n",
    "b = randint(0,99)\n",
    "\n",
    "def spread(ls):\n",
    "    return max(ls) - min(ls)\n",
    "\n",
    "######################\n",
    "ax = []\n",
    "i = 0\n",
    "while i < len(x):\n",
    "    n = x[i]*a\n",
    "    ax.append(n)\n",
    "    i += 1\n",
    "    \n",
    "by = []\n",
    "i = 0\n",
    "while i < len(y):\n",
    "    n = y[i]*b\n",
    "    by.append(n)\n",
    "    i += 1\n",
    "    \n",
    "ax_by = []\n",
    "i = 0\n",
    "while i < len(ax):\n",
    "    n = ax[i] + by[i]\n",
    "    ax_by.append(n)\n",
    "    i +=1\n",
    "\n",
    "result1 = spread(ax_by)\n",
    "print(result1)\n",
    "######################\n",
    "\n",
    "######################\n",
    "f_x = spread(x) #scalar\n",
    "f_y = spread(y) #scalar\n",
    "\n",
    "afx = a*f_x\n",
    "bfy = b*f_y\n",
    "result2 = afx + bfy\n",
    "print(result2)\n",
    "######################    "
   ]
  },
  {
   "cell_type": "code",
   "execution_count": null,
   "metadata": {
    "deletable": false,
    "editable": false,
    "nbgrader": {
     "checksum": "ba05e6df4a61aa03c13790d096be8dcc",
     "grade": true,
     "grade_id": "cell-a2daec160aaa4f02",
     "locked": true,
     "points": 2,
     "schema_version": 1,
     "solution": false
    }
   },
   "outputs": [],
   "source": [
    "# Assertion cell (Q7a) - please do not delete or move this cell"
   ]
  },
  {
   "cell_type": "markdown",
   "metadata": {
    "deletable": false,
    "editable": false,
    "nbgrader": {
     "checksum": "c5ddd6d41a98ffac5af9bc97c74d02d0",
     "grade": false,
     "grade_id": "cell-3e0b01a5c19a51a5",
     "locked": true,
     "schema_version": 1,
     "solution": false
    }
   },
   "source": [
    "(b) The difference of the first element and the last, $f(x) = x_1 − x_n$."
   ]
  },
  {
   "cell_type": "code",
   "execution_count": null,
   "metadata": {
    "deletable": false,
    "nbgrader": {
     "checksum": "522ee3dbd03fbb0edcd48c0bd55ac883",
     "grade": false,
     "grade_id": "cell-b421b88e11fe2217",
     "locked": false,
     "schema_version": 1,
     "solution": true
    }
   },
   "outputs": [],
   "source": [
    "# Answer (Q7b)\n",
    "ans_7b = True \n",
    "\n",
    "# YOUR CODE HERE\n",
    "import random\n",
    "from random import randint\n",
    "\n",
    "#creating 2 random 4-vectors \n",
    "ls = []\n",
    "i = 0 \n",
    "random.seed(randint(0,99))\n",
    "while i <= 1:\n",
    "    vect = [randint(0,99), randint(0,99), randint(0,99), randint(0,99)]\n",
    "    ls.append(vect)\n",
    "    i += 1\n",
    "print(ls)\n",
    "\n",
    "x = ls[0]\n",
    "y = ls[1]\n",
    "\n",
    "a = randint(0,99)\n",
    "b = randint(0,99)\n",
    "\n",
    "\n",
    "def diff(ls):\n",
    "    return ls[0] - ls[-1]\n",
    "\n",
    "######################\n",
    "ax = []\n",
    "i = 0\n",
    "while i < len(x):\n",
    "    n = x[i]*a\n",
    "    ax.append(n)\n",
    "    i += 1\n",
    "    \n",
    "by = []\n",
    "i = 0\n",
    "while i < len(y):\n",
    "    n = y[i]*b\n",
    "    by.append(n)\n",
    "    i += 1\n",
    "    \n",
    "ax_by = []\n",
    "i = 0\n",
    "while i < len(ax):\n",
    "    n = ax[i] + by[i]\n",
    "    ax_by.append(n)\n",
    "    i +=1\n",
    "\n",
    "result1 = diff(ax_by)\n",
    "print(result1)\n",
    "######################\n",
    "\n",
    "######################\n",
    "f_x = diff(x) #scalar\n",
    "f_y = diff(y) #scalar\n",
    "\n",
    "afx = a*f_x\n",
    "bfy = b*f_y\n",
    "result2 = afx + bfy\n",
    "print(result2)\n",
    "######################"
   ]
  },
  {
   "cell_type": "code",
   "execution_count": null,
   "metadata": {
    "deletable": false,
    "editable": false,
    "nbgrader": {
     "checksum": "92558efd1b3f39c3e4eb04f32d5bc2a7",
     "grade": true,
     "grade_id": "cell-df4532b5b986ec4d",
     "locked": true,
     "points": 2,
     "schema_version": 1,
     "solution": false
    }
   },
   "outputs": [],
   "source": [
    "# Assertion cell (Q7b) - please do not delete or move this cell"
   ]
  },
  {
   "cell_type": "markdown",
   "metadata": {
    "deletable": false,
    "editable": false,
    "nbgrader": {
     "checksum": "8f77ba72e45c8f8c9fc097bc61dc6746",
     "grade": false,
     "grade_id": "cell-5136d84f33720d52",
     "locked": true,
     "schema_version": 1,
     "solution": false
    }
   },
   "source": [
    "(c) The median of an $n$-vector, where we will assume $n = 2k + 1$ is odd. The median of\n",
    "the vector $x$ is defined as the $(k + 1)$st largest number among the entries of $x$. For\n",
    "example, the median of $(−7.1, 3.2, −1.5)$ is $−1.5$.\n"
   ]
  },
  {
   "cell_type": "code",
   "execution_count": null,
   "metadata": {
    "deletable": false,
    "nbgrader": {
     "checksum": "accc320fefbe2b5abc65c66830e0adc6",
     "grade": false,
     "grade_id": "cell-b0241254f7b25c1b",
     "locked": false,
     "schema_version": 1,
     "solution": true
    }
   },
   "outputs": [],
   "source": [
    "# Answer (Q7c)\n",
    "ans_7c = False\n",
    "\n",
    "# YOUR CODE HERE\n",
    "#creating 2 random 5-vectors \n",
    "import random\n",
    "from random import randint\n",
    "\n",
    "ls = []\n",
    "i = 0 \n",
    "random.seed(randint(0,99))\n",
    "while i <= 1:\n",
    "    vect = [randint(0,99), randint(0,99), randint(0,99), randint(0,99), randint(0,99)]\n",
    "    ls.append(vect)\n",
    "    i += 1\n",
    "print(ls)\n",
    "\n",
    "x = ls[0]\n",
    "y = ls[1]\n",
    "\n",
    "a = randint(0,99)\n",
    "b = randint(0,99)\n",
    "\n",
    "def median(vector):\n",
    "    ls = sorted(vector)\n",
    "    k = int((len(vector)-1) / 2) \n",
    "    index = k + 1 #3rd largest number \n",
    "    median = ls[-index] #when sorted, the last element will be the largest => 3rd largest = -index\n",
    "    return median \n",
    "\n",
    "######################\n",
    "ax = []\n",
    "i = 0\n",
    "while i < len(x):\n",
    "    n = x[i]*a\n",
    "    ax.append(n)\n",
    "    i += 1\n",
    "    \n",
    "by = []\n",
    "i = 0\n",
    "while i < len(y):\n",
    "    n = y[i]*b\n",
    "    by.append(n)\n",
    "    i += 1\n",
    "    \n",
    "ax_by = []\n",
    "i = 0\n",
    "while i < len(ax):\n",
    "    n = ax[i] + by[i]\n",
    "    ax_by.append(n)\n",
    "    i +=1\n",
    "\n",
    "result1 = median(ax_by)\n",
    "print(result1)\n",
    "######################\n",
    "\n",
    "######################\n",
    "f_x = median(x) #scalar\n",
    "f_y = median(y) #scalar\n",
    "\n",
    "afx = a*f_x\n",
    "bfy = b*f_y\n",
    "result2 = afx + bfy\n",
    "print(result2)\n",
    "######################"
   ]
  },
  {
   "cell_type": "code",
   "execution_count": null,
   "metadata": {
    "deletable": false,
    "editable": false,
    "nbgrader": {
     "checksum": "9ebb0b389877884c226bbfe4bf4fdcaf",
     "grade": true,
     "grade_id": "cell-37b87b9c2a6e65b5",
     "locked": true,
     "points": 2,
     "schema_version": 1,
     "solution": false
    }
   },
   "outputs": [],
   "source": [
    "# Assertion cell (Q7c) - please do not delete or move this cell"
   ]
  },
  {
   "cell_type": "markdown",
   "metadata": {
    "deletable": false,
    "editable": false,
    "nbgrader": {
     "checksum": "16a052b8cc01fee797849522c5c28844",
     "grade": false,
     "grade_id": "cell-0f1ea39043894254",
     "locked": true,
     "schema_version": 1,
     "solution": false
    }
   },
   "source": [
    "(d) The average of the entries with odd indices, minus the average of the entries with\n",
    "even indices. You can assume that $n = 2k$ is even.\n"
   ]
  },
  {
   "cell_type": "code",
   "execution_count": null,
   "metadata": {
    "deletable": false,
    "nbgrader": {
     "checksum": "6c1a952adfbc3a1f260ab9d0c0d736b5",
     "grade": false,
     "grade_id": "cell-647de22ba0294e6c",
     "locked": false,
     "schema_version": 1,
     "solution": true
    }
   },
   "outputs": [],
   "source": [
    "# Answer (Q7d)\n",
    "ans_7d = True \n",
    "# YOUR CODE HERE\n",
    "import random\n",
    "from random import randint\n",
    "\n",
    "#creating 2 random 4-vectors \n",
    "ls = []\n",
    "i = 0 \n",
    "random.seed(randint(0,99))\n",
    "while i <= 1:\n",
    "    vect = [randint(0,99), randint(0,99), randint(0,99), randint(0,99)]\n",
    "    ls.append(vect)\n",
    "    i += 1\n",
    "print(ls)\n",
    "\n",
    "x = ls[0]\n",
    "y = ls[1]\n",
    "\n",
    "a = randint(0,99)\n",
    "b = randint(0,99)\n",
    "\n",
    "def func(ls):\n",
    "    if len(ls) == 0:\n",
    "        return 0\n",
    "    total_even = 0\n",
    "    count_even = 0\n",
    "    total_odd = 0\n",
    "    count_odd = 0\n",
    "    i = 0\n",
    "    while i < len(ls):\n",
    "        if i % 2 == 0:\n",
    "            count_even += 1\n",
    "            total_even += ls[i]\n",
    "        elif i % 2 != 0:\n",
    "            count_odd += 1\n",
    "            total_odd += ls[i]\n",
    "        i += 1\n",
    "    avg_even = total_even/count_even\n",
    "    avg_odd = total_odd/count_odd\n",
    "    return avg_odd - avg_even\n",
    "\n",
    "######################\n",
    "ax = []\n",
    "i = 0\n",
    "while i < len(x):\n",
    "    n = x[i]*a\n",
    "    ax.append(n)\n",
    "    i += 1\n",
    "    \n",
    "by = []\n",
    "i = 0\n",
    "while i < len(y):\n",
    "    n = y[i]*b\n",
    "    by.append(n)\n",
    "    i += 1\n",
    "    \n",
    "ax_by = []\n",
    "i = 0\n",
    "while i < len(ax):\n",
    "    n = ax[i] + by[i]\n",
    "    ax_by.append(n)\n",
    "    i +=1\n",
    "\n",
    "result1 = func(ax_by)\n",
    "print(result1)\n",
    "######################\n",
    "\n",
    "######################\n",
    "f_x = func(x) #scalar\n",
    "f_y = func(y) #scalar\n",
    "\n",
    "afx = a*f_x\n",
    "bfy = b*f_y\n",
    "result2 = afx + bfy\n",
    "print(result2)\n",
    "######################"
   ]
  },
  {
   "cell_type": "code",
   "execution_count": null,
   "metadata": {
    "deletable": false,
    "editable": false,
    "nbgrader": {
     "checksum": "2fbc0060483d26e5c4076d6c15836ebf",
     "grade": true,
     "grade_id": "cell-e1822ed7ade8214f",
     "locked": true,
     "points": 2,
     "schema_version": 1,
     "solution": false
    }
   },
   "outputs": [],
   "source": [
    "# Assertion cell (Q7d) - please do not delete or move this cell"
   ]
  },
  {
   "cell_type": "markdown",
   "metadata": {
    "deletable": false,
    "editable": false,
    "nbgrader": {
     "checksum": "9408b9335805b496aed9832cd3a3fb26",
     "grade": false,
     "grade_id": "cell-5d0c4f40e7be825c",
     "locked": true,
     "schema_version": 1,
     "solution": false
    }
   },
   "source": [
    "(e) Vector extrapolation, defined as $x_n + (x_n − x_{n−1})$, for $n \\geq 2$. (This is a simple\n",
    "prediction of what $x_{n+1}$ would be, based on a straight line drawn through $x_n$ and\n",
    "$x_{n−1}$.)"
   ]
  },
  {
   "cell_type": "code",
   "execution_count": null,
   "metadata": {
    "deletable": false,
    "nbgrader": {
     "checksum": "23943941e16c5f2e4cf186c4ab854f13",
     "grade": false,
     "grade_id": "cell-c2cbfc55c4215081",
     "locked": false,
     "schema_version": 1,
     "solution": true
    }
   },
   "outputs": [],
   "source": [
    "# Answer (Q7e)\n",
    "ans_7e = False\n",
    "\n",
    "# YOUR CODE HERE\n",
    "    \n"
   ]
  },
  {
   "cell_type": "code",
   "execution_count": null,
   "metadata": {
    "deletable": false,
    "editable": false,
    "nbgrader": {
     "checksum": "adc7eabaf6c8a528b55656b02ca0e030",
     "grade": true,
     "grade_id": "cell-5fd447035fe23470",
     "locked": true,
     "points": 2,
     "schema_version": 1,
     "solution": false
    }
   },
   "outputs": [],
   "source": [
    "# Assertion cell (Q7e) - please do not delete or move this cell"
   ]
  },
  {
   "cell_type": "code",
   "execution_count": null,
   "metadata": {
    "deletable": false,
    "editable": false,
    "nbgrader": {
     "checksum": "9eb877abb21f8d4cf3e72f0fe3809e82",
     "grade": true,
     "grade_id": "cell-3a21b5160e2128b6",
     "locked": true,
     "points": 0,
     "schema_version": 1,
     "solution": false
    }
   },
   "outputs": [],
   "source": [
    "# Adhoc assertion cell - please do not delete or move this cell"
   ]
  },
  {
   "cell_type": "code",
   "execution_count": null,
   "metadata": {
    "deletable": false,
    "editable": false,
    "nbgrader": {
     "checksum": "257619a548eac1cf8f32a6855e58ecfb",
     "grade": true,
     "grade_id": "cell-26a6bb2597f54d9c",
     "locked": true,
     "points": 0,
     "schema_version": 1,
     "solution": false
    }
   },
   "outputs": [],
   "source": [
    "# Adhoc assertion cell - please do not delete or move this cell"
   ]
  },
  {
   "cell_type": "code",
   "execution_count": null,
   "metadata": {
    "deletable": false,
    "editable": false,
    "nbgrader": {
     "checksum": "1760d1eab7c4c70ea84a5a1e9a61e49d",
     "grade": true,
     "grade_id": "cell-211f17e7b672fc9b",
     "locked": true,
     "points": 0,
     "schema_version": 1,
     "solution": false
    }
   },
   "outputs": [],
   "source": [
    "# Adhoc assertion cell - please do not delete or move this cell"
   ]
  }
 ],
 "metadata": {
  "kernelspec": {
   "display_name": "Python 3",
   "language": "python",
   "name": "python3"
  },
  "language_info": {
   "codemirror_mode": {
    "name": "ipython",
    "version": 3
   },
   "file_extension": ".py",
   "mimetype": "text/x-python",
   "name": "python",
   "nbconvert_exporter": "python",
   "pygments_lexer": "ipython3",
   "version": "3.7.4"
  }
 },
 "nbformat": 4,
 "nbformat_minor": 2
}
