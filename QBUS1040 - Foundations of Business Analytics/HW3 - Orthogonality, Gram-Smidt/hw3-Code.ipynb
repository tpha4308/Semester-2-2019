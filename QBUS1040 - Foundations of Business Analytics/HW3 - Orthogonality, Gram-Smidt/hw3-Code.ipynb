{
 "cells": [
  {
   "cell_type": "markdown",
   "metadata": {
    "deletable": false,
    "editable": false,
    "nbgrader": {
     "checksum": "0c70efad5907a879ee4482df3c8ecec1",
     "grade": false,
     "grade_id": "cell-7654514882644f26",
     "locked": true,
     "schema_version": 1,
     "solution": false
    }
   },
   "source": [
    "# QBUS1040: Foundations of Business Analytics\n",
    "## Homework 3\n",
    "Semester 2, 2019\n",
    "\n",
    "This homework consists of eight problems that require you to submit a written response and a coding component. The coding component is described in this file. Please answer all questions in the space provided in this homework file. When you are done, save the file and upload it to Canvas. You should submit one file for the whole homework.  \n",
    "\n",
    "__Good luck!__"
   ]
  },
  {
   "cell_type": "markdown",
   "metadata": {
    "deletable": false,
    "editable": false,
    "nbgrader": {
     "checksum": "b0bf373ced151140a4ca27425bc52371",
     "grade": false,
     "grade_id": "cell-b3d189812723501d",
     "locked": true,
     "schema_version": 1,
     "solution": false
    }
   },
   "source": [
    "# Problem 4(a)\n",
    "\n",
    "The variable `vec_list` contains 15 vectors. Run the Gram-Schmidt algorithm on the given set of vectors in the variable `vec_list` and return the variable `q_list` as the vectors $q_1, \\ldots, q_{15}$."
   ]
  },
  {
   "cell_type": "code",
   "execution_count": 21,
   "metadata": {
    "deletable": false,
    "nbgrader": {
     "checksum": "5d6d9ab758124157c655afbc0e31cce4",
     "grade": false,
     "grade_id": "cell-a6440e82f4f07309",
     "locked": false,
     "schema_version": 1,
     "solution": true
    }
   },
   "outputs": [
    {
     "name": "stdout",
     "output_type": "stream",
     "text": [
      "[[ 2.82679345e-01  1.44807802e-01  2.20834124e-01  4.39452690e-01\n",
      "   2.45474981e-03  6.32402777e-02  3.48923790e-01  4.29608746e-01\n",
      "   7.11147917e-02  2.99163650e-01  4.63665835e-01  1.08826980e-01\n",
      "   9.64077719e-02  5.63776772e-02  1.14286674e-01]\n",
      " [ 3.46432736e-01  4.08960951e-01 -1.71351028e-01  1.26138307e-02\n",
      "   2.01095344e-01  2.36202804e-01  2.27774777e-01  2.70313720e-02\n",
      "   1.54219563e-01 -2.75030225e-01 -3.50952238e-01 -1.43398893e-01\n",
      "   5.74861876e-02  5.16981619e-01 -1.43670455e-01]\n",
      " [-2.40489258e-02  1.04498954e-01 -1.05657627e-01 -2.18980336e-01\n",
      "  -4.87044072e-02  4.42894903e-01  2.01264981e-01 -4.27986181e-01\n",
      "   4.63273716e-01  1.61245372e-01  1.22552100e-01  3.53779543e-01\n",
      "   2.64529434e-01 -2.27482214e-01  6.82081442e-02]\n",
      " [-1.31410502e-01  1.07527832e-01  1.93425534e-01 -1.30327166e-01\n",
      "   7.08063631e-01  2.67561419e-01  1.44482759e-02  1.33725954e-01\n",
      "  -6.21150121e-02  3.77222919e-02 -9.98016641e-02 -1.68233294e-01\n",
      "  -1.88208338e-01 -2.81970825e-01  4.08976591e-01]\n",
      " [-1.73336452e-01 -1.75595645e-01  3.39723223e-01 -1.54445474e-01\n",
      "  -3.10505140e-02  9.21874081e-02 -1.75650366e-01 -1.02844062e-01\n",
      "  -4.78320276e-02  1.11269883e-04  1.05419391e-01  2.44610203e-01\n",
      "   5.93738480e-02  6.93032991e-01  4.38072450e-01]\n",
      " [ 1.77480160e-01  2.17359272e-01  5.38176854e-03 -1.03849840e-01\n",
      "   1.05797814e-01 -2.99815106e-01 -5.55263022e-01  3.65770488e-01\n",
      "   3.48179112e-01  3.88264191e-03 -1.64608951e-01  2.95757764e-01\n",
      "   3.33935743e-01 -1.08879057e-01  8.98575454e-02]\n",
      " [ 1.77245030e-01 -1.72089524e-01 -6.03063139e-01 -4.89254034e-02\n",
      "   1.76842152e-01  2.68937231e-01 -1.57327956e-01  1.22326580e-01\n",
      "  -5.34047023e-01  1.50078686e-01  1.16681533e-01  2.43297353e-01\n",
      "   2.11410810e-01  5.98972714e-02  2.74601658e-02]\n",
      " [ 3.46165456e-01 -2.34067976e-01  3.70118972e-02  5.71112308e-01\n",
      "  -7.88774153e-02  1.86271943e-01 -1.92742389e-01 -2.17461369e-01\n",
      "   4.58506119e-02 -2.49902225e-01 -2.69546923e-01  2.56405007e-01\n",
      "  -2.72915024e-01 -1.61818052e-01  2.62420249e-01]\n",
      " [ 1.46904174e-01 -4.43188001e-02  5.37028602e-01  4.69967469e-02\n",
      "  -1.33932898e-02  1.59805865e-01 -2.59510450e-03 -1.37025386e-01\n",
      "  -3.73022370e-01  1.30486105e-01 -3.24603284e-01 -6.65716659e-02\n",
      "   5.55248326e-01 -1.28404373e-01 -2.24915165e-01]\n",
      " [-3.13660576e-01  1.11435258e-01 -3.85923668e-02  2.91496385e-01\n",
      "   3.86753998e-01 -3.69324123e-01  2.07547716e-01 -2.09194277e-01\n",
      "  -7.11400160e-02  2.49508980e-01 -2.26843702e-01  4.92190392e-01\n",
      "  -7.14195343e-02  1.23058629e-01 -2.20574691e-01]\n",
      " [-4.19630479e-01 -1.23212222e-01 -2.88579043e-01  3.62687965e-01\n",
      "  -7.35736887e-02 -6.64252202e-02  1.76853235e-01  8.32639430e-02\n",
      "   1.22093860e-01 -1.12068567e-01 -1.94177570e-01 -2.76350031e-01\n",
      "   5.05600189e-01 -2.70825390e-03  3.85608362e-01]\n",
      " [ 3.75903124e-01  1.47732174e-01 -1.19700112e-01  3.14366302e-02\n",
      "   9.01424628e-02 -3.63249099e-01 -1.18785526e-01 -5.10196688e-01\n",
      "  -1.59233604e-02  4.05553185e-01  9.83951864e-02 -3.68789296e-01\n",
      "   4.93662679e-02  6.36723473e-02  3.00273445e-01]\n",
      " [-8.87969555e-02  2.71349904e-01 -6.43241061e-02 -9.66672646e-02\n",
      "  -4.56393697e-01  1.48718009e-01  4.72870162e-02  2.13113416e-01\n",
      "  -1.12856074e-01  5.08404333e-01 -4.80104892e-01  4.63107747e-02\n",
      "  -2.66448706e-01 -1.24912230e-02  2.27878779e-01]\n",
      " [ 3.19691048e-01 -6.48629931e-01 -1.68592659e-02 -2.99571972e-01\n",
      "   1.06196384e-01 -2.08510192e-01  3.89564617e-01  1.71469186e-01\n",
      "   2.17971635e-01  1.48402334e-01 -2.77069448e-01  3.92800149e-02\n",
      "  -7.19330974e-03  2.56016058e-02  5.07969417e-02]\n",
      " [ 1.48305982e-01  2.84742500e-01  2.96881320e-02 -2.44511603e-01\n",
      "  -1.52665129e-01 -3.21181913e-01  3.76983017e-01 -4.94153958e-02\n",
      "  -3.49625404e-01 -4.30852992e-01  3.01258468e-02  2.81320892e-01\n",
      "   7.25983124e-02 -1.99673820e-01  3.63559916e-01]]\n"
     ]
    }
   ],
   "source": [
    "import numpy as np\n",
    "np.random.seed(seed=100)\n",
    "A = np.random.random((15, 15))\n",
    "vec_list = []\n",
    "for item in A:\n",
    "    vec_list.append(item)\n",
    "q_list = []\n",
    "\n",
    "#Gram-Schmidt Algorithm    \n",
    "import math\n",
    "\n",
    "def scalar_division(v, n):\n",
    "    i = 0\n",
    "    new_v = []\n",
    "    while i < len(v):\n",
    "        x = v[i] / n\n",
    "        new_v.append(x)\n",
    "        i += 1\n",
    "    return new_v\n",
    "\n",
    "def scalar_mult(v, n):\n",
    "    i = 0\n",
    "    new_v = []\n",
    "    while i < len(v):\n",
    "        x = v[i]*n\n",
    "        new_v.append(x)\n",
    "        i +=1\n",
    "    return new_v\n",
    "\n",
    "def vector_alg(v1, v2, flag):\n",
    "    i = 0\n",
    "    new_v = []\n",
    "    if flag == \"plus\":\n",
    "        while i < len(v1):\n",
    "            x = v1[i] + v2[i]\n",
    "            new_v.append(x)\n",
    "            i +=1\n",
    "    elif flag == \"minus\":\n",
    "        while i < len(v1):\n",
    "            x = v1[i] - v2[i]\n",
    "            new_v.append(x)\n",
    "            i += 1\n",
    "    return new_v\n",
    "\n",
    "def norm(vector_x):\n",
    "    sum_squared = 0\n",
    "    i = 0\n",
    "    while i < len(vector_x):\n",
    "        sum_squared += vector_x[i]**2\n",
    "        i += 1\n",
    "    norm = math.sqrt(sum_squared)\n",
    "    return norm \n",
    "\n",
    "def inner(v1, v2):\n",
    "    i = 0\n",
    "    total = 0\n",
    "    while i < len(v1):\n",
    "        total += v1[i]*v2[i]\n",
    "        i +=1 \n",
    "    return total\n",
    "\n",
    "def gs_alg(a_list):\n",
    "    qi_list = []\n",
    "    i = 0\n",
    "    while i < len(a_list):\n",
    "        #Orthogonalisation\n",
    "        qi_tilde = orthogornalisation(a_list[i], qi_list)\n",
    "        \n",
    "        #Test for independence \n",
    "        if norm(qi_tilde) < 1e-6:\n",
    "            return qi_list\n",
    "        \n",
    "        #Normalisation\n",
    "        else:\n",
    "            qi = scalar_division(qi_tilde, norm(qi_tilde))\n",
    "            qi_list.append(qi)\n",
    "        i += 1\n",
    "    return qi_list\n",
    "        \n",
    "def orthogornalisation(a, qi_list):\n",
    "    qi_tilde = a\n",
    "    if len(qi_list) == 0:\n",
    "        return qi_tilde\n",
    "    else:\n",
    "        k = 0\n",
    "        while k < len(qi_list):\n",
    "            qi_tilde = vector_alg(qi_tilde, scalar_mult(qi_list[k], inner(qi_list[k], a)), \"minus\")\n",
    "            k += 1\n",
    "    return qi_tilde\n",
    "\n",
    "q_list = np.array(gs_alg(vec_list))\n",
    "#print(q_list)"
   ]
  },
  {
   "cell_type": "code",
   "execution_count": null,
   "metadata": {
    "deletable": false,
    "editable": false,
    "nbgrader": {
     "checksum": "003399e85fa3b927b5e013d72ef1aeb8",
     "grade": true,
     "grade_id": "cell-657dd5c7268f3183",
     "locked": true,
     "points": 2.5,
     "schema_version": 1,
     "solution": false
    }
   },
   "outputs": [],
   "source": [
    "# Assertion cell (Q4a) - please do not delete or move this cell"
   ]
  },
  {
   "cell_type": "markdown",
   "metadata": {
    "deletable": false,
    "editable": false,
    "nbgrader": {
     "checksum": "76409e43b24a5f07e673413f413991a3",
     "grade": false,
     "grade_id": "cell-b3d189812723501c",
     "locked": true,
     "schema_version": 1,
     "solution": false
    }
   },
   "source": [
    "# Problem 4(b)\n",
    "\n",
    "Run the Gram-Schmidt algorithm on vectors $q_1,\\ldots, q_{15}$ obtained from the previous part and return the variable `z_list` as the vectors $z_1,\\ldots,z_{15}$ obtained from running the Gram-Schmidt for the second time."
   ]
  },
  {
   "cell_type": "code",
   "execution_count": 19,
   "metadata": {
    "deletable": false,
    "nbgrader": {
     "checksum": "ba9eaf2ca5841540bf66fd1fa730214d",
     "grade": false,
     "grade_id": "cell-a6440e82f4f07308",
     "locked": false,
     "schema_version": 1,
     "solution": true
    }
   },
   "outputs": [
    {
     "name": "stdout",
     "output_type": "stream",
     "text": [
      "[[ 2.82679345e-01  1.44807802e-01  2.20834124e-01  4.39452690e-01\n",
      "   2.45474981e-03  6.32402777e-02  3.48923790e-01  4.29608746e-01\n",
      "   7.11147917e-02  2.99163650e-01  4.63665835e-01  1.08826980e-01\n",
      "   9.64077719e-02  5.63776772e-02  1.14286674e-01]\n",
      " [ 3.46432736e-01  4.08960951e-01 -1.71351028e-01  1.26138307e-02\n",
      "   2.01095344e-01  2.36202804e-01  2.27774777e-01  2.70313720e-02\n",
      "   1.54219563e-01 -2.75030225e-01 -3.50952238e-01 -1.43398893e-01\n",
      "   5.74861876e-02  5.16981619e-01 -1.43670455e-01]\n",
      " [-2.40489258e-02  1.04498954e-01 -1.05657627e-01 -2.18980336e-01\n",
      "  -4.87044072e-02  4.42894903e-01  2.01264981e-01 -4.27986181e-01\n",
      "   4.63273716e-01  1.61245372e-01  1.22552100e-01  3.53779543e-01\n",
      "   2.64529434e-01 -2.27482214e-01  6.82081442e-02]\n",
      " [-1.31410502e-01  1.07527832e-01  1.93425534e-01 -1.30327166e-01\n",
      "   7.08063631e-01  2.67561419e-01  1.44482759e-02  1.33725954e-01\n",
      "  -6.21150121e-02  3.77222919e-02 -9.98016641e-02 -1.68233294e-01\n",
      "  -1.88208338e-01 -2.81970825e-01  4.08976591e-01]\n",
      " [-1.73336452e-01 -1.75595645e-01  3.39723223e-01 -1.54445474e-01\n",
      "  -3.10505140e-02  9.21874081e-02 -1.75650366e-01 -1.02844062e-01\n",
      "  -4.78320276e-02  1.11269883e-04  1.05419391e-01  2.44610203e-01\n",
      "   5.93738480e-02  6.93032991e-01  4.38072450e-01]\n",
      " [ 1.77480160e-01  2.17359272e-01  5.38176854e-03 -1.03849840e-01\n",
      "   1.05797814e-01 -2.99815106e-01 -5.55263022e-01  3.65770488e-01\n",
      "   3.48179112e-01  3.88264191e-03 -1.64608951e-01  2.95757764e-01\n",
      "   3.33935743e-01 -1.08879057e-01  8.98575454e-02]\n",
      " [ 1.77245030e-01 -1.72089524e-01 -6.03063139e-01 -4.89254034e-02\n",
      "   1.76842152e-01  2.68937231e-01 -1.57327956e-01  1.22326580e-01\n",
      "  -5.34047023e-01  1.50078686e-01  1.16681533e-01  2.43297353e-01\n",
      "   2.11410810e-01  5.98972714e-02  2.74601658e-02]\n",
      " [ 3.46165456e-01 -2.34067976e-01  3.70118972e-02  5.71112308e-01\n",
      "  -7.88774153e-02  1.86271943e-01 -1.92742389e-01 -2.17461369e-01\n",
      "   4.58506119e-02 -2.49902225e-01 -2.69546923e-01  2.56405007e-01\n",
      "  -2.72915024e-01 -1.61818052e-01  2.62420249e-01]\n",
      " [ 1.46904174e-01 -4.43188001e-02  5.37028602e-01  4.69967469e-02\n",
      "  -1.33932898e-02  1.59805865e-01 -2.59510450e-03 -1.37025386e-01\n",
      "  -3.73022370e-01  1.30486105e-01 -3.24603284e-01 -6.65716659e-02\n",
      "   5.55248326e-01 -1.28404373e-01 -2.24915165e-01]\n",
      " [-3.13660576e-01  1.11435258e-01 -3.85923668e-02  2.91496385e-01\n",
      "   3.86753998e-01 -3.69324123e-01  2.07547716e-01 -2.09194277e-01\n",
      "  -7.11400160e-02  2.49508980e-01 -2.26843702e-01  4.92190392e-01\n",
      "  -7.14195343e-02  1.23058629e-01 -2.20574691e-01]\n",
      " [-4.19630479e-01 -1.23212222e-01 -2.88579043e-01  3.62687965e-01\n",
      "  -7.35736887e-02 -6.64252202e-02  1.76853235e-01  8.32639430e-02\n",
      "   1.22093860e-01 -1.12068567e-01 -1.94177570e-01 -2.76350031e-01\n",
      "   5.05600189e-01 -2.70825390e-03  3.85608362e-01]\n",
      " [ 3.75903124e-01  1.47732174e-01 -1.19700112e-01  3.14366302e-02\n",
      "   9.01424628e-02 -3.63249099e-01 -1.18785526e-01 -5.10196688e-01\n",
      "  -1.59233604e-02  4.05553185e-01  9.83951864e-02 -3.68789296e-01\n",
      "   4.93662679e-02  6.36723473e-02  3.00273445e-01]\n",
      " [-8.87969555e-02  2.71349904e-01 -6.43241061e-02 -9.66672646e-02\n",
      "  -4.56393697e-01  1.48718009e-01  4.72870162e-02  2.13113416e-01\n",
      "  -1.12856074e-01  5.08404333e-01 -4.80104892e-01  4.63107747e-02\n",
      "  -2.66448706e-01 -1.24912230e-02  2.27878779e-01]\n",
      " [ 3.19691048e-01 -6.48629931e-01 -1.68592659e-02 -2.99571972e-01\n",
      "   1.06196384e-01 -2.08510192e-01  3.89564617e-01  1.71469186e-01\n",
      "   2.17971635e-01  1.48402334e-01 -2.77069448e-01  3.92800149e-02\n",
      "  -7.19330974e-03  2.56016058e-02  5.07969417e-02]\n",
      " [ 1.48305982e-01  2.84742500e-01  2.96881320e-02 -2.44511603e-01\n",
      "  -1.52665129e-01 -3.21181913e-01  3.76983017e-01 -4.94153958e-02\n",
      "  -3.49625404e-01 -4.30852992e-01  3.01258468e-02  2.81320892e-01\n",
      "   7.25983124e-02 -1.99673820e-01  3.63559916e-01]]\n"
     ]
    }
   ],
   "source": [
    "#Gram-Schmidt Algorithm    \n",
    "z_list = []\n",
    "# use q_list from cell above as input\n",
    "\n",
    "z_list = np.array(gs_alg(q_list))\n",
    "#print(z_list)"
   ]
  },
  {
   "cell_type": "code",
   "execution_count": null,
   "metadata": {
    "deletable": false,
    "editable": false,
    "nbgrader": {
     "checksum": "07e5e2d42adde874d83debe051af6f4e",
     "grade": true,
     "grade_id": "cell-657dd5c7268f3182",
     "locked": true,
     "points": 2.5,
     "schema_version": 1,
     "solution": false
    }
   },
   "outputs": [],
   "source": [
    "# Assertion cell (Q4b) - please do not delete or move this cell"
   ]
  },
  {
   "cell_type": "markdown",
   "metadata": {
    "deletable": false,
    "editable": false,
    "nbgrader": {
     "checksum": "ef22902085c082e6093e79504283a8a0",
     "grade": false,
     "grade_id": "cell-831f161400efae05",
     "locked": true,
     "schema_version": 1,
     "solution": false
    }
   },
   "source": [
    "# Problem 4(c)\n",
    "\n",
    "Compute the distances between vectors $q_1$ and $z_1$, $q_2$ and $z_2$, ..., $q_{15}$ and $z_{15}$. Assign your answer (a 15-vector) as a numpy array to the variable `ans_1c`."
   ]
  },
  {
   "cell_type": "code",
   "execution_count": 23,
   "metadata": {
    "deletable": false,
    "nbgrader": {
     "checksum": "717eb63a985b4c9898fe5554e71f0229",
     "grade": false,
     "grade_id": "cell-ce31e9e8203fa7e7",
     "locked": false,
     "schema_version": 1,
     "solution": true
    }
   },
   "outputs": [
    {
     "name": "stdout",
     "output_type": "stream",
     "text": [
      "[0.00000000e+00 2.11045349e-16 1.68866220e-16 5.06447164e-16\n",
      " 8.71530989e-16 7.78866814e-16 1.66125293e-15 4.60519391e-15\n",
      " 6.99093142e-15 2.79002216e-15 4.25221226e-15 3.52360045e-15\n",
      " 2.57206789e-14 2.94397617e-14 5.17039378e-14]\n"
     ]
    }
   ],
   "source": [
    "def distance(v1, v2):\n",
    "    diff = vector_alg(v1, v2, \"minus\")\n",
    "    norm_diff = norm(diff)\n",
    "    return norm_diff\n",
    "\n",
    "ans_ls = []\n",
    "i = 0\n",
    "while i < len(q_list):\n",
    "    x = distance(q_list[i], z_list[i])\n",
    "    ans_ls.append(x)\n",
    "    i += 1\n",
    "\n",
    "ans_4c = np.array(ans_ls)\n",
    "print(ans_4c)"
   ]
  },
  {
   "cell_type": "code",
   "execution_count": null,
   "metadata": {
    "deletable": false,
    "editable": false,
    "nbgrader": {
     "checksum": "12a8f1836a51f518abd815887c50b423",
     "grade": true,
     "grade_id": "cell-2f5d7886ea0ecb0c",
     "locked": true,
     "points": 2.5,
     "schema_version": 1,
     "solution": false
    }
   },
   "outputs": [],
   "source": [
    "# Assertion cell (Q4c) - please do not delete or move this cell"
   ]
  },
  {
   "cell_type": "markdown",
   "metadata": {
    "deletable": false,
    "editable": false,
    "nbgrader": {
     "checksum": "96fcb012e42b3bd71915e9cb8e4ae1dc",
     "grade": false,
     "grade_id": "cell-007ef779e9965917",
     "locked": true,
     "schema_version": 1,
     "solution": false
    }
   },
   "source": [
    "# Problem 8\n",
    "\n",
    "_Orthogonality_\n",
    "\n",
    "Suppose the $n$-vectors $a$, $b$, and $c$ satisfy $a \\perp c$ and $b \\perp c$. Which of the following statements must hold? (That is, are true for any $a$, $b$, and $c$ that satisfy $a \\perp c$, $b \\perp c$.) Assign __True__ or __False__ to the variable provided in the answer cell.\n",
    "\n",
    "(a) $a \\perp b$."
   ]
  },
  {
   "cell_type": "code",
   "execution_count": null,
   "metadata": {
    "deletable": false,
    "nbgrader": {
     "checksum": "f96a38a72837bcd1ec4b758c2d03654a",
     "grade": false,
     "grade_id": "cell-69e537713d587d2a",
     "locked": false,
     "schema_version": 1,
     "solution": true
    }
   },
   "outputs": [],
   "source": [
    "#Answer\n",
    "ans_8a = False\n"
   ]
  },
  {
   "cell_type": "code",
   "execution_count": null,
   "metadata": {
    "deletable": false,
    "editable": false,
    "nbgrader": {
     "checksum": "908f959f61af0e992b501efe806e3480",
     "grade": true,
     "grade_id": "cell-75c83b9550c02c83",
     "locked": true,
     "points": 3,
     "schema_version": 1,
     "solution": false
    }
   },
   "outputs": [],
   "source": [
    "# Assertion cell (Q8a) - please do not delete or move this cell"
   ]
  },
  {
   "cell_type": "markdown",
   "metadata": {
    "deletable": false,
    "editable": false,
    "nbgrader": {
     "checksum": "44e28f6418a4c9594bdb5f3fd3c4c57a",
     "grade": false,
     "grade_id": "cell-fa82b7c2f6c9489e",
     "locked": true,
     "schema_version": 1,
     "solution": false
    }
   },
   "source": [
    "(b) $(a+b) \\perp c$."
   ]
  },
  {
   "cell_type": "code",
   "execution_count": null,
   "metadata": {
    "deletable": false,
    "nbgrader": {
     "checksum": "5acfd314de3eee8398923edadb838e1e",
     "grade": false,
     "grade_id": "cell-feb94671d69aa1ae",
     "locked": false,
     "schema_version": 1,
     "solution": true
    }
   },
   "outputs": [],
   "source": [
    "#Answer\n",
    "ans_8b = True\n"
   ]
  },
  {
   "cell_type": "code",
   "execution_count": null,
   "metadata": {
    "deletable": false,
    "editable": false,
    "nbgrader": {
     "checksum": "01e93212969979b5f8eb774aff3c16f0",
     "grade": true,
     "grade_id": "cell-63087bc7b3037b9c",
     "locked": true,
     "points": 3,
     "schema_version": 1,
     "solution": false
    }
   },
   "outputs": [],
   "source": [
    "# Assertion cell (Q8b) - please do not delete or move this cell"
   ]
  },
  {
   "cell_type": "markdown",
   "metadata": {
    "deletable": false,
    "editable": false,
    "nbgrader": {
     "checksum": "bb3e50d2de261fc139638784594fdee9",
     "grade": false,
     "grade_id": "cell-deb62e884d080291",
     "locked": true,
     "schema_version": 1,
     "solution": false
    }
   },
   "source": [
    "(c) $(a+c) \\perp (b+c)$."
   ]
  },
  {
   "cell_type": "code",
   "execution_count": null,
   "metadata": {
    "deletable": false,
    "nbgrader": {
     "checksum": "053276a6a538633b624d0f2979c42e94",
     "grade": false,
     "grade_id": "cell-433246a5b5c70044",
     "locked": false,
     "schema_version": 1,
     "solution": true
    }
   },
   "outputs": [],
   "source": [
    "#Answer\n",
    "ans_8c = False\n"
   ]
  },
  {
   "cell_type": "code",
   "execution_count": null,
   "metadata": {
    "deletable": false,
    "editable": false,
    "nbgrader": {
     "checksum": "de22fae8832986495fe9e43be2f0046c",
     "grade": true,
     "grade_id": "cell-7aee7c773159ad58",
     "locked": true,
     "points": 4,
     "schema_version": 1,
     "solution": false
    }
   },
   "outputs": [],
   "source": [
    "# Assertion cell (Q8c) - please do not delete or move this cell"
   ]
  },
  {
   "cell_type": "code",
   "execution_count": null,
   "metadata": {
    "deletable": false,
    "editable": false,
    "nbgrader": {
     "checksum": "79c33883b1c18c47ea883676ca5f265d",
     "grade": true,
     "grade_id": "cell-71ff7fead64b1421",
     "locked": true,
     "points": 0,
     "schema_version": 1,
     "solution": false
    }
   },
   "outputs": [],
   "source": [
    "# Adhoc assertion cell - please do not delete or move this cell"
   ]
  },
  {
   "cell_type": "code",
   "execution_count": null,
   "metadata": {
    "deletable": false,
    "editable": false,
    "nbgrader": {
     "checksum": "e374fe90930b16bd1b7918c867fe673b",
     "grade": true,
     "grade_id": "cell-80dff0dc5b005b81",
     "locked": true,
     "points": 0,
     "schema_version": 1,
     "solution": false
    }
   },
   "outputs": [],
   "source": [
    "# Adhoc assertion cell - please do not delete or move this cell"
   ]
  }
 ],
 "metadata": {
  "anaconda-cloud": {},
  "kernelspec": {
   "display_name": "Python 3",
   "language": "python",
   "name": "python3"
  },
  "language_info": {
   "codemirror_mode": {
    "name": "ipython",
    "version": 3
   },
   "file_extension": ".py",
   "mimetype": "text/x-python",
   "name": "python",
   "nbconvert_exporter": "python",
   "pygments_lexer": "ipython3",
   "version": "3.7.3"
  }
 },
 "nbformat": 4,
 "nbformat_minor": 2
}
